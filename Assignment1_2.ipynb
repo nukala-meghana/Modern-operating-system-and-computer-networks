{
  "nbformat": 4,
  "nbformat_minor": 0,
  "metadata": {
    "colab": {
      "provenance": [],
      "authorship_tag": "ABX9TyPBgx6yjEH9fVlPiqHDD+BD",
      "include_colab_link": true
    },
    "kernelspec": {
      "name": "python3",
      "display_name": "Python 3"
    },
    "language_info": {
      "name": "python"
    }
  },
  "cells": [
    {
      "cell_type": "markdown",
      "metadata": {
        "id": "view-in-github",
        "colab_type": "text"
      },
      "source": [
        "<a href=\"https://colab.research.google.com/github/nukala-meghana/Modern-operating-system-and-computer-networks/blob/main/Assignment1_2.ipynb\" target=\"_parent\"><img src=\"https://colab.research.google.com/assets/colab-badge.svg\" alt=\"Open In Colab\"/></a>"
      ]
    },
    {
      "cell_type": "code",
      "execution_count": 3,
      "metadata": {
        "colab": {
          "base_uri": "https://localhost:8080/"
        },
        "id": "vLOR6Tuh2mQ5",
        "outputId": "c533c589-0416-47b5-d9a7-daa7b58b235d"
      },
      "outputs": [
        {
          "output_type": "stream",
          "name": "stdout",
          "text": [
            "Vertex   Distance from Source\n",
            "\t0 \t\t\t\t 0\n",
            "\t1 \t\t\t\t 4\n",
            "\t2 \t\t\t\t 12\n",
            "\t3 \t\t\t\t 19\n",
            "\t4 \t\t\t\t 21\n",
            "\t5 \t\t\t\t 11\n",
            "\t6 \t\t\t\t 9\n",
            "\t7 \t\t\t\t 8\n",
            "\t8 \t\t\t\t 14\n"
          ]
        },
        {
          "output_type": "execute_result",
          "data": {
            "text/plain": []
          },
          "metadata": {},
          "execution_count": 3
        }
      ],
      "source": [
        "%%shell\n",
        "cat <<EOF > dijkstra.cpp\n",
        "#include <limits.h>\n",
        "#include <stdio.h>\n",
        "#include <stdbool.h>\n",
        "\n",
        "#define V 9\n",
        "\n",
        "int minDistance(int dist[], bool sptSet[])\n",
        "{\n",
        "    int min = INT_MAX, min_index;\n",
        "\n",
        "    for (int v = 0; v < V; v++)\n",
        "        if (sptSet[v] == false && dist[v] <= min)\n",
        "            min = dist[v], min_index = v;\n",
        "\n",
        "    return min_index;\n",
        "}\n",
        "\n",
        "void printSolution(int dist[], int n)\n",
        "{\n",
        "    printf(\"Vertex   Distance from Source\\n\");\n",
        "    for (int i = 0; i < V; i++)\n",
        "        printf(\"\\t%d \\t\\t\\t\\t %d\\n\", i, dist[i]);\n",
        "}\n",
        "\n",
        "void dijkstra(int graph[V][V], int src)\n",
        "{\n",
        "    int dist[V];\n",
        "    bool sptSet[V];\n",
        "\n",
        "    for (int i = 0; i < V; i++)\n",
        "        dist[i] = INT_MAX, sptSet[i] = false;\n",
        "\n",
        "    dist[src] = 0;\n",
        "\n",
        "    for (int count = 0; count < V - 1; count++) {\n",
        "        int u = minDistance(dist, sptSet);\n",
        "        sptSet[u] = true;\n",
        "        for (int v = 0; v < V; v++)\n",
        "            if (!sptSet[v] && graph[u][v]\n",
        "                && dist[u] != INT_MAX\n",
        "                && dist[u] + graph[u][v] < dist[v])\n",
        "                dist[v] = dist[u] + graph[u][v];\n",
        "    }\n",
        "    printSolution(dist, V);\n",
        "}\n",
        "\n",
        "int main()\n",
        "{\n",
        "    int graph[V][V] = { { 0, 4, 0, 0, 0, 0, 0, 8, 0 },\n",
        "                        { 4, 0, 8, 0, 0, 0, 0, 11, 0 },\n",
        "                        { 0, 8, 0, 7, 0, 4, 0, 0, 2 },\n",
        "                        { 0, 0, 7, 0, 9, 14, 0, 0, 0 },\n",
        "                        { 0, 0, 0, 9, 0, 10, 0, 0, 0 },\n",
        "                        { 0, 0, 4, 14, 10, 0, 2, 0, 0 },\n",
        "                        { 0, 0, 0, 0, 0, 2, 0, 1, 6 },\n",
        "                        { 8, 11, 0, 0, 0, 0, 1, 0, 7 },\n",
        "                        { 0, 0, 2, 0, 0, 0, 6, 7, 0 } };\n",
        "\n",
        "    dijkstra(graph, 0);\n",
        "\n",
        "    return 0;\n",
        "}\n",
        "EOF\n",
        "\n",
        "g++ dijkstra.cpp -o dijkstra\n",
        "./dijkstra"
      ]
    }
  ]
}