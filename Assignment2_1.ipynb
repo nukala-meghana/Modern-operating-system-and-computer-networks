{
  "nbformat": 4,
  "nbformat_minor": 0,
  "metadata": {
    "colab": {
      "provenance": [],
      "authorship_tag": "ABX9TyO4sJ9wDiY/h0L7skUTxc/P",
      "include_colab_link": true
    },
    "kernelspec": {
      "name": "python3",
      "display_name": "Python 3"
    },
    "language_info": {
      "name": "python"
    }
  },
  "cells": [
    {
      "cell_type": "markdown",
      "metadata": {
        "id": "view-in-github",
        "colab_type": "text"
      },
      "source": [
        "<a href=\"https://colab.research.google.com/github/nukala-meghana/Modern-operating-system-and-computer-networks/blob/main/Assignment2_1.ipynb\" target=\"_parent\"><img src=\"https://colab.research.google.com/assets/colab-badge.svg\" alt=\"Open In Colab\"/></a>"
      ]
    },
    {
      "cell_type": "code",
      "metadata": {
        "colab": {
          "base_uri": "https://localhost:8080/"
        },
        "id": "f9517785",
        "outputId": "06f4976a-23ff-4cf6-c228-e117434eb814"
      },
      "source": [
        "%%shell\n",
        "cat <<EOF > dvr.cpp\n",
        "#include <iostream>\n",
        "using namespace std;\n",
        "\n",
        "#define MAX 10\n",
        "#define INF 100\n",
        "\n",
        "int main() {\n",
        "    int cost[MAX][MAX];\n",
        "    int dist[MAX][MAX];\n",
        "    int via[MAX][MAX];\n",
        "    int n;\n",
        "\n",
        "    cout << \"Enter the number of nodes: \";\n",
        "    cin >> n;\n",
        "\n",
        "    cout << \"\\nEnter the cost matrix (Enter 100 for INF):\\n\";\n",
        "    for (int i = 0; i < n; i++) {\n",
        "        for (int j = 0; j < n; j++) {\n",
        "            cin >> cost[i][j];\n",
        "            cost[i][j] = (cost[i][j] == 100) ? INF : cost[i][j];\n",
        "            dist[i][j] = cost[i][j];\n",
        "            via[i][j] = j;\n",
        "        }\n",
        "    }\n",
        "\n",
        "    // Bellman-Ford Update Rule\n",
        "    for (int k = 0; k < n; k++) {\n",
        "        for (int i = 0; i < n; i++) {\n",
        "            for (int j = 0; j < n; j++) {\n",
        "                if (dist[i][j] > dist[i][k] + dist[k][j]) { // Corrected condition\n",
        "                    dist[i][j] = dist[i][k] + dist[k][j]; // Corrected formula\n",
        "                    via[i][j] = k;\n",
        "                }\n",
        "            }\n",
        "        }\n",
        "    }\n",
        "\n",
        "    // Display Final Routing Tables\n",
        "    cout << \"\\n--- Final Distance Vector Tables ---\\n\";\n",
        "    for (int i = 0; i < n; i++) {\n",
        "        cout << \"\\nRouter \" << i + 1 << \" Table:\\n\";\n",
        "        cout << \"Destination\\tNext Hop\\tDistance\\n\";\n",
        "        for (int j = 0; j < n; j++) {\n",
        "            if (i != j)\n",
        "                cout << j + 1 << \"\\t\\t\" << via[i][j] + 1 << \"\\t\\t\" << dist[i][j] << endl;\n",
        "        }\n",
        "    }\n",
        "\n",
        "    return 0;\n",
        "}\n",
        "EOF\n",
        "\n",
        "g++ dvr.cpp -o dvr\n",
        "./dvr"
      ],
      "execution_count": 15,
      "outputs": [
        {
          "output_type": "stream",
          "name": "stdout",
          "text": [
            "Enter the number of nodes: 4\n",
            "\n",
            "Enter the cost matrix (Enter 100 for INF):\n",
            "0 2 5 1\n",
            "2 0 3 2\n",
            "5 3 0 3\n",
            "1 2 3 0\n",
            "\n",
            "--- Final Distance Vector Tables ---\n",
            "\n",
            "Router 1 Table:\n",
            "Destination\tNext Hop\tDistance\n",
            "2\t\t2\t\t2\n",
            "3\t\t4\t\t4\n",
            "4\t\t4\t\t1\n",
            "\n",
            "Router 2 Table:\n",
            "Destination\tNext Hop\tDistance\n",
            "1\t\t1\t\t2\n",
            "3\t\t3\t\t3\n",
            "4\t\t4\t\t2\n",
            "\n",
            "Router 3 Table:\n",
            "Destination\tNext Hop\tDistance\n",
            "1\t\t4\t\t4\n",
            "2\t\t2\t\t3\n",
            "4\t\t4\t\t3\n",
            "\n",
            "Router 4 Table:\n",
            "Destination\tNext Hop\tDistance\n",
            "1\t\t1\t\t1\n",
            "2\t\t2\t\t2\n",
            "3\t\t3\t\t3\n"
          ]
        },
        {
          "output_type": "execute_result",
          "data": {
            "text/plain": []
          },
          "metadata": {},
          "execution_count": 15
        }
      ]
    }
  ]
}